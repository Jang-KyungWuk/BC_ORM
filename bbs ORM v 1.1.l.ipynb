{
 "cells": [
  {
   "cell_type": "code",
   "execution_count": 1,
   "id": "f9735252",
   "metadata": {},
   "outputs": [],
   "source": [
    "# ORM\n",
    "\n",
    "from sqlalchemy import create_engine\n",
    "from sqlalchemy.orm import sessionmaker, relationship, backref\n",
    "from sqlalchemy import Column, Integer, VARCHAR, ForeignKey, DateTime\n",
    "from sqlalchemy.ext.declarative import declarative_base\n",
    "import json\n",
    "\n",
    "class DB:\n",
    "    # 테이블 구조 정의\n",
    "    base = declarative_base()\n",
    "    jse = json.encoder.JSONEncoder()\n",
    "\n",
    "    class Article(base):\n",
    "        __tablename__='article_table'\n",
    "        a_aid = Column(Integer, primary_key=True, autoincrement=True, nullable=False)\n",
    "        a_title = Column(VARCHAR(80))\n",
    "        a_uploader = Column(VARCHAR(40))\n",
    "        a_timestamp = Column(DateTime)\n",
    "        a_article = Column(VARCHAR(6000))\n",
    "\n",
    "    class Reply(base):\n",
    "        __tablename__='reply_table'\n",
    "        r_rid = Column(Integer, primary_key=True, autoincrement=True, nullable=False)\n",
    "        r_aid = Column(Integer, nullable=False)\n",
    "        r_reply = Column(VARCHAR(600))\n",
    "        r_uploader = Column(VARCHAR(40))\n",
    "        r_timestamp = Column(DateTime)\n",
    "\n",
    "    \n",
    "    # 엔진 생성\n",
    "    def create_engine_from_port(self,port,dbProtocol,dbPwd,dbContainerAddress):\n",
    "        return create_engine(\"%s://%s@%s:%s\"%(dbProtocol,dbPwd,dbContainerAddress,port), echo=False)\n",
    "    \n",
    "    # 세션 생성\n",
    "    def create_session(self,engine):\n",
    "        Session = sessionmaker(autocommit=False, autoflush=True, bind=engine)\n",
    "        session = Session()\n",
    "        return session\n",
    "    \n",
    "    # DB 내에 인턴 명부 테이블 생성\n",
    "    def create_DB(self):\n",
    "        self.base.metadata.create_all(self.engine)\n",
    "        self.session.commit()\n",
    "\n",
    "    \n",
    "    def hello(self,text):\n",
    "        print(text)\n",
    "    \n",
    "    # 여기에 메서드를 대충 이런 느낌으로 구현하시면 됩니다. 옛날 스키마라 내용은 좀 다를 수 있어요\n",
    "    '''\n",
    "    def get_titles(self):\n",
    "        try:\n",
    "            returnString=\"\"\n",
    "            q = self.session.query(self.bbsTitle).order_by(self.bbsTitle.bbs_aid)\n",
    "            for line in q:\n",
    "                returnString+='{0:<2} {1:<8} {2:<8}'.format(\n",
    "                    line.bbs_aid,line.bbs_title,line.bbs_uploader)\n",
    "                returnString+='\\n'\n",
    "            return (True, returnString)\n",
    "        except Exception as e:\n",
    "            return (False, e)\n",
    "    \n",
    "    def get_article(self,aid):\n",
    "        try:\n",
    "            target = self.session.query(self.bbsArticle).filter(self.bbsArticle.bbs_aid == aid).first()\n",
    "            return (True, target.bbs_article)   \n",
    "        except Exception as e:\n",
    "            return (False, e)\n",
    "            \n",
    "    def post_article(self,uploader,title,article):\n",
    "        try:\n",
    "            self.session.add(self.bbsTitle(bbs_title=title,\n",
    "                                           bbs_uploader=uploader))\n",
    "            self.session.add(self.bbsArticle(bbs_article=article))\n",
    "            self.session.commit()\n",
    "            print(\"Add uploader:%s title:%s article:%s\"%(uploader,title,article))\n",
    "            return True\n",
    "        except Exception as e:\n",
    "            return (False,e)\n",
    "    \n",
    "    \n",
    "    def edit_article(self, aid):\n",
    "        return None\n",
    "    \n",
    "    \n",
    "    def delete_article(self, aid):\n",
    "        return None\n",
    "    \n",
    "    '''\n",
    "    \n",
    "    \n",
    "    # 인스턴스 생성 시 localhost 포트에 대한 엔진, 세션 인스턴스를 생성\n",
    "    def __init__(self,port,dbProtocol='postgresql',dbPwd='postgres:postgrespw',dbContainerAddress='localhost'):    \n",
    "        self.engine=self.create_engine_from_port(port,dbProtocol,dbPwd,dbContainerAddress)\n",
    "        self.session=self.create_session(self.engine)\n"
   ]
  },
  {
   "cell_type": "code",
   "execution_count": 2,
   "id": "27000643",
   "metadata": {},
   "outputs": [],
   "source": [
    "db=DB(49161) # local host의 postgresql 의 컨테이너 localhost 포트 번호를 입력 받아 DB 인스턴스 생성"
   ]
  },
  {
   "cell_type": "code",
   "execution_count": 3,
   "id": "12546030",
   "metadata": {},
   "outputs": [],
   "source": [
    "db.create_DB() # 처음으로 컨테이너를 실행할 때, 혹은 볼륨을 삭제했을 때 실행시켜줘야 함"
   ]
  },
  {
   "cell_type": "code",
   "execution_count": 4,
   "id": "ae7df4b5",
   "metadata": {},
   "outputs": [
    {
     "name": "stdout",
     "output_type": "stream",
     "text": [
      "Hello, ORM!\n"
     ]
    }
   ],
   "source": [
    "db.hello('Hello, ORM!') # 메서드는 이런 식으로 호출 됨"
   ]
  },
  {
   "cell_type": "code",
   "execution_count": null,
   "id": "e74728a9",
   "metadata": {},
   "outputs": [],
   "source": []
  }
 ],
 "metadata": {
  "kernelspec": {
   "display_name": "Python 3 (ipykernel)",
   "language": "python",
   "name": "python3"
  },
  "language_info": {
   "codemirror_mode": {
    "name": "ipython",
    "version": 3
   },
   "file_extension": ".py",
   "mimetype": "text/x-python",
   "name": "python",
   "nbconvert_exporter": "python",
   "pygments_lexer": "ipython3",
   "version": "3.11.1"
  }
 },
 "nbformat": 4,
 "nbformat_minor": 5
}
