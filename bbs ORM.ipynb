{
 "cells": [
  {
   "cell_type": "code",
   "execution_count": 71,
   "id": "f9735252",
   "metadata": {},
   "outputs": [],
   "source": [
    "# ORM\n",
    "\n",
    "from sqlalchemy import create_engine\n",
    "from sqlalchemy.orm import sessionmaker\n",
    "from sqlalchemy import Column, Integer, VARCHAR, ForeignKey, DateTime\n",
    "from sqlalchemy.ext.declarative import declarative_base\n",
    "import time\n",
    "import json\n",
    "\n",
    "class DB:\n",
    "    # 테이블 구조 정의\n",
    "    base = declarative_base()\n",
    "    jse = json.encoder.JSONEncoder()\n",
    "\n",
    "    class Article(base):\n",
    "        __tablename__='article_table'\n",
    "        a_aid = Column(Integer, primary_key=True, autoincrement=True, nullable=False)\n",
    "        a_title = Column(VARCHAR(80))\n",
    "        a_uploader = Column(VARCHAR(40))\n",
    "        a_timestamp = Column(DateTime)\n",
    "        a_article = Column(VARCHAR(6000))\n",
    "\n",
    "    class Reply(base):\n",
    "        __tablename__='reply_table'\n",
    "        r_rid = Column(Integer, primary_key=True, autoincrement=True, nullable=False)\n",
    "        r_aid = Column(Integer, nullable=False)\n",
    "        r_reply = Column(VARCHAR(600))\n",
    "        r_uploader = Column(VARCHAR(40))\n",
    "        r_timestamp = Column(DateTime)\n",
    "\n",
    "    def time_stamp(self):\n",
    "        return time.strftime(\"%Y-%m-%d %H:%M:%S\")\n",
    "    \n",
    "    def temp_add(self,jsonBodyData):\n",
    "        jsonData = json.loads(jsonBodyData)\n",
    "        self.session.add(self.Article(a_title=jsonData['title'],\n",
    "                                 a_uploader=jsonData['uploader'],\n",
    "                                 a_timestamp=self.time_stamp(),\n",
    "                                 a_article=jsonData['article']))\n",
    "        \n",
    "    def temp_search(self):\n",
    "        q = self.session.query(self.Article)\n",
    "        print(\"?\")\n",
    "        for l in q:\n",
    "            print(l.a_aid,l.a_title,l.a_uploader,l.a_timestamp,l.a_article)\n",
    "    \n",
    "    # 엔진 생성\n",
    "    def create_engine_from_port(self,port,dbProtocol,dbPwd,dbContainerAddress):\n",
    "        return create_engine(\"%s://%s@%s:%s\"%(dbProtocol,dbPwd,dbContainerAddress,port), echo=False)\n",
    "    \n",
    "    # 세션 생성\n",
    "    def create_session(self,engine):\n",
    "        Session = sessionmaker(autocommit=False, autoflush=True, bind=engine)\n",
    "        session = Session()\n",
    "        return session\n",
    "    \n",
    "    # DB 내에 인턴 명부 테이블 생성\n",
    "    def create_DB(self):\n",
    "        self.base.metadata.create_all(self.engine)\n",
    "        self.session.commit()\n",
    "    \n",
    "    \n",
    "    # 인스턴스 생성 시 localhost 포트에 대한 엔진, 세션 인스턴스를 생성\n",
    "    def __init__(self,port,dbProtocol='postgresql',dbPwd='postgres:postgrespw',dbContainerAddress='localhost'):    \n",
    "        self.engine=self.create_engine_from_port(port,dbProtocol,dbPwd,dbContainerAddress)\n",
    "        self.session=self.create_session(self.engine)\n"
   ]
  },
  {
   "cell_type": "code",
   "execution_count": 72,
   "id": "27000643",
   "metadata": {},
   "outputs": [],
   "source": [
    "db=DB(49153) # local host의 postgresql 의 컨테이너 localhost 포트 번호를 입력 받아 DB 인스턴스 생성"
   ]
  },
  {
   "cell_type": "code",
   "execution_count": 73,
   "id": "12546030",
   "metadata": {},
   "outputs": [],
   "source": [
    "db.create_DB() # 처음으로 컨테이너를 실행할 때, 혹은 볼륨을 삭제했을 때 실행시켜줘야 함"
   ]
  },
  {
   "cell_type": "code",
   "execution_count": 74,
   "id": "8030089f",
   "metadata": {},
   "outputs": [],
   "source": [
    "testArticlePost = {}\n",
    "testArticlePost['title'] = \"제목 테스트\"\n",
    "testArticlePost['uploader'] = \"글 테스터\"\n",
    "testArticlePost['article'] = \"대충 이런 식으로 본문이 들어감\\n잘 보이나?\"\n",
    "# testArticlePost['timestamp'] = time.strftime(\"%Y-%m-%d %H:%M\") # timestamp는 DB에서 처리\n",
    "\n",
    "jbd = db.jse.encode(testArticlePost)"
   ]
  },
  {
   "cell_type": "code",
   "execution_count": 75,
   "id": "57832e47",
   "metadata": {},
   "outputs": [
    {
     "data": {
      "text/plain": [
       "'{\"title\": \"\\\\uc81c\\\\ubaa9 \\\\ud14c\\\\uc2a4\\\\ud2b8\", \"uploader\": \"\\\\uae00 \\\\ud14c\\\\uc2a4\\\\ud130\", \"article\": \"\\\\ub300\\\\ucda9 \\\\uc774\\\\ub7f0 \\\\uc2dd\\\\uc73c\\\\ub85c \\\\ubcf8\\\\ubb38\\\\uc774 \\\\ub4e4\\\\uc5b4\\\\uac10\\\\n\\\\uc798 \\\\ubcf4\\\\uc774\\\\ub098?\"}'"
      ]
     },
     "execution_count": 75,
     "metadata": {},
     "output_type": "execute_result"
    }
   ],
   "source": [
    "jbd"
   ]
  },
  {
   "cell_type": "code",
   "execution_count": 84,
   "id": "419d2215",
   "metadata": {},
   "outputs": [],
   "source": [
    "db.temp_add(jbd)"
   ]
  },
  {
   "cell_type": "code",
   "execution_count": 85,
   "id": "2794e128",
   "metadata": {},
   "outputs": [
    {
     "name": "stdout",
     "output_type": "stream",
     "text": [
      "?\n",
      "7 제목 테스트 글 테스터 2023-01-10 14:05:11 대충 이런 식으로 본문이 들어감\n",
      "잘 보이나?\n",
      "8 제목 테스트 글 테스터 2023-01-10 14:05:16 대충 이런 식으로 본문이 들어감\n",
      "잘 보이나?\n",
      "9 제목 테스트 글 테스터 2023-01-10 14:05:18 대충 이런 식으로 본문이 들어감\n",
      "잘 보이나?\n",
      "10 제목 테스트 글 테스터 2023-01-10 14:05:19 대충 이런 식으로 본문이 들어감\n",
      "잘 보이나?\n",
      "11 제목 테스트 글 테스터 2023-01-10 14:05:21 대충 이런 식으로 본문이 들어감\n",
      "잘 보이나?\n"
     ]
    }
   ],
   "source": [
    "db.temp_search()"
   ]
  },
  {
   "cell_type": "code",
   "execution_count": null,
   "id": "1bdaf83c",
   "metadata": {},
   "outputs": [],
   "source": []
  }
 ],
 "metadata": {
  "kernelspec": {
   "display_name": "Python 3 (ipykernel)",
   "language": "python",
   "name": "python3"
  },
  "language_info": {
   "codemirror_mode": {
    "name": "ipython",
    "version": 3
   },
   "file_extension": ".py",
   "mimetype": "text/x-python",
   "name": "python",
   "nbconvert_exporter": "python",
   "pygments_lexer": "ipython3",
   "version": "3.11.1"
  }
 },
 "nbformat": 4,
 "nbformat_minor": 5
}
